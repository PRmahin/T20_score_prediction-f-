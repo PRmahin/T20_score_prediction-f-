{
  "cells": [
    {
      "cell_type": "code",
      "execution_count": null,
      "metadata": {
        "colab": {
          "base_uri": "https://localhost:8080/"
        },
        "id": "Uu_WRQcdRB2f",
        "outputId": "1439e645-6dc8-4405-9c22-df2e8d81551f"
      },
      "outputs": [
        {
          "name": "stdout",
          "output_type": "stream",
          "text": [
            "Mounted at /content/drive\n"
          ]
        }
      ],
      "source": [
        "import pandas as pd\n",
        "import matplotlib.pyplot as plt\n",
        "from google.colab import drive\n",
        "drive.mount('/content/drive')"
      ]
    },
    {
      "cell_type": "code",
      "execution_count": null,
      "metadata": {
        "id": "cV2GIIFDTjA-"
      },
      "outputs": [],
      "source": [
        "df = pd.read_csv('/content/drive/My Drive/Colab Notebooks/t20.csv')"
      ]
    },
    {
      "cell_type": "code",
      "execution_count": null,
      "metadata": {
        "colab": {
          "base_uri": "https://localhost:8080/",
          "height": 461
        },
        "id": "tdnGcrxKUQwY",
        "outputId": "97b33153-de74-45db-aad1-27b3046addc7"
      },
      "outputs": [
        {
          "data": {
            "application/vnd.google.colaboratory.intrinsic+json": {
              "type": "dataframe",
              "variable_name": "df"
            },
            "text/html": [
              "\n",
              "  <div id=\"df-b63c400d-f161-4066-9ca8-04301e5188a8\" class=\"colab-df-container\">\n",
              "    <div>\n",
              "<style scoped>\n",
              "    .dataframe tbody tr th:only-of-type {\n",
              "        vertical-align: middle;\n",
              "    }\n",
              "\n",
              "    .dataframe tbody tr th {\n",
              "        vertical-align: top;\n",
              "    }\n",
              "\n",
              "    .dataframe thead th {\n",
              "        text-align: right;\n",
              "    }\n",
              "</style>\n",
              "<table border=\"1\" class=\"dataframe\">\n",
              "  <thead>\n",
              "    <tr style=\"text-align: right;\">\n",
              "      <th></th>\n",
              "      <th>s_no</th>\n",
              "      <th>Match ID</th>\n",
              "      <th>Date</th>\n",
              "      <th>Venue</th>\n",
              "      <th>bat_team</th>\n",
              "      <th>bowl_team</th>\n",
              "      <th>Innings</th>\n",
              "      <th>overs</th>\n",
              "      <th>Ball</th>\n",
              "      <th>batsman</th>\n",
              "      <th>...</th>\n",
              "      <th>Winner</th>\n",
              "      <th>Chased Successfully</th>\n",
              "      <th>Total Batter Runs</th>\n",
              "      <th>Total Non Striker Runs</th>\n",
              "      <th>Batter Balls Faced</th>\n",
              "      <th>Non Striker Balls Faced</th>\n",
              "      <th>Player Out Runs</th>\n",
              "      <th>Player Out Balls Faced</th>\n",
              "      <th>Bowler Runs Conceded</th>\n",
              "      <th>Valid Ball</th>\n",
              "    </tr>\n",
              "  </thead>\n",
              "  <tbody>\n",
              "    <tr>\n",
              "      <th>0</th>\n",
              "      <td>0</td>\n",
              "      <td>1339605</td>\n",
              "      <td>26-03-23</td>\n",
              "      <td>SuperSport Park</td>\n",
              "      <td>West Indies</td>\n",
              "      <td>South Africa</td>\n",
              "      <td>1</td>\n",
              "      <td>1</td>\n",
              "      <td>1</td>\n",
              "      <td>BA King</td>\n",
              "      <td>...</td>\n",
              "      <td>South Africa</td>\n",
              "      <td>1</td>\n",
              "      <td>1</td>\n",
              "      <td>0</td>\n",
              "      <td>1</td>\n",
              "      <td>0</td>\n",
              "      <td>NaN</td>\n",
              "      <td>NaN</td>\n",
              "      <td>1</td>\n",
              "      <td>1</td>\n",
              "    </tr>\n",
              "    <tr>\n",
              "      <th>1</th>\n",
              "      <td>1</td>\n",
              "      <td>1339605</td>\n",
              "      <td>26-03-23</td>\n",
              "      <td>SuperSport Park</td>\n",
              "      <td>West Indies</td>\n",
              "      <td>South Africa</td>\n",
              "      <td>1</td>\n",
              "      <td>1</td>\n",
              "      <td>2</td>\n",
              "      <td>KR Mayers</td>\n",
              "      <td>...</td>\n",
              "      <td>South Africa</td>\n",
              "      <td>1</td>\n",
              "      <td>1</td>\n",
              "      <td>1</td>\n",
              "      <td>1</td>\n",
              "      <td>1</td>\n",
              "      <td>NaN</td>\n",
              "      <td>NaN</td>\n",
              "      <td>1</td>\n",
              "      <td>1</td>\n",
              "    </tr>\n",
              "    <tr>\n",
              "      <th>2</th>\n",
              "      <td>2</td>\n",
              "      <td>1339605</td>\n",
              "      <td>26-03-23</td>\n",
              "      <td>SuperSport Park</td>\n",
              "      <td>West Indies</td>\n",
              "      <td>South Africa</td>\n",
              "      <td>1</td>\n",
              "      <td>1</td>\n",
              "      <td>3</td>\n",
              "      <td>BA King</td>\n",
              "      <td>...</td>\n",
              "      <td>South Africa</td>\n",
              "      <td>1</td>\n",
              "      <td>0</td>\n",
              "      <td>1</td>\n",
              "      <td>0</td>\n",
              "      <td>1</td>\n",
              "      <td>1.0</td>\n",
              "      <td>2.0</td>\n",
              "      <td>0</td>\n",
              "      <td>1</td>\n",
              "    </tr>\n",
              "    <tr>\n",
              "      <th>3</th>\n",
              "      <td>3</td>\n",
              "      <td>1339605</td>\n",
              "      <td>26-03-23</td>\n",
              "      <td>SuperSport Park</td>\n",
              "      <td>West Indies</td>\n",
              "      <td>South Africa</td>\n",
              "      <td>1</td>\n",
              "      <td>1</td>\n",
              "      <td>4</td>\n",
              "      <td>J Charles</td>\n",
              "      <td>...</td>\n",
              "      <td>South Africa</td>\n",
              "      <td>1</td>\n",
              "      <td>0</td>\n",
              "      <td>1</td>\n",
              "      <td>1</td>\n",
              "      <td>1</td>\n",
              "      <td>NaN</td>\n",
              "      <td>NaN</td>\n",
              "      <td>0</td>\n",
              "      <td>1</td>\n",
              "    </tr>\n",
              "    <tr>\n",
              "      <th>4</th>\n",
              "      <td>4</td>\n",
              "      <td>1339605</td>\n",
              "      <td>26-03-23</td>\n",
              "      <td>SuperSport Park</td>\n",
              "      <td>West Indies</td>\n",
              "      <td>South Africa</td>\n",
              "      <td>1</td>\n",
              "      <td>1</td>\n",
              "      <td>5</td>\n",
              "      <td>J Charles</td>\n",
              "      <td>...</td>\n",
              "      <td>South Africa</td>\n",
              "      <td>1</td>\n",
              "      <td>4</td>\n",
              "      <td>1</td>\n",
              "      <td>2</td>\n",
              "      <td>1</td>\n",
              "      <td>NaN</td>\n",
              "      <td>NaN</td>\n",
              "      <td>4</td>\n",
              "      <td>1</td>\n",
              "    </tr>\n",
              "  </tbody>\n",
              "</table>\n",
              "<p>5 rows × 35 columns</p>\n",
              "</div>\n",
              "    <div class=\"colab-df-buttons\">\n",
              "\n",
              "  <div class=\"colab-df-container\">\n",
              "    <button class=\"colab-df-convert\" onclick=\"convertToInteractive('df-b63c400d-f161-4066-9ca8-04301e5188a8')\"\n",
              "            title=\"Convert this dataframe to an interactive table.\"\n",
              "            style=\"display:none;\">\n",
              "\n",
              "  <svg xmlns=\"http://www.w3.org/2000/svg\" height=\"24px\" viewBox=\"0 -960 960 960\">\n",
              "    <path d=\"M120-120v-720h720v720H120Zm60-500h600v-160H180v160Zm220 220h160v-160H400v160Zm0 220h160v-160H400v160ZM180-400h160v-160H180v160Zm440 0h160v-160H620v160ZM180-180h160v-160H180v160Zm440 0h160v-160H620v160Z\"/>\n",
              "  </svg>\n",
              "    </button>\n",
              "\n",
              "  <style>\n",
              "    .colab-df-container {\n",
              "      display:flex;\n",
              "      gap: 12px;\n",
              "    }\n",
              "\n",
              "    .colab-df-convert {\n",
              "      background-color: #E8F0FE;\n",
              "      border: none;\n",
              "      border-radius: 50%;\n",
              "      cursor: pointer;\n",
              "      display: none;\n",
              "      fill: #1967D2;\n",
              "      height: 32px;\n",
              "      padding: 0 0 0 0;\n",
              "      width: 32px;\n",
              "    }\n",
              "\n",
              "    .colab-df-convert:hover {\n",
              "      background-color: #E2EBFA;\n",
              "      box-shadow: 0px 1px 2px rgba(60, 64, 67, 0.3), 0px 1px 3px 1px rgba(60, 64, 67, 0.15);\n",
              "      fill: #174EA6;\n",
              "    }\n",
              "\n",
              "    .colab-df-buttons div {\n",
              "      margin-bottom: 4px;\n",
              "    }\n",
              "\n",
              "    [theme=dark] .colab-df-convert {\n",
              "      background-color: #3B4455;\n",
              "      fill: #D2E3FC;\n",
              "    }\n",
              "\n",
              "    [theme=dark] .colab-df-convert:hover {\n",
              "      background-color: #434B5C;\n",
              "      box-shadow: 0px 1px 3px 1px rgba(0, 0, 0, 0.15);\n",
              "      filter: drop-shadow(0px 1px 2px rgba(0, 0, 0, 0.3));\n",
              "      fill: #FFFFFF;\n",
              "    }\n",
              "  </style>\n",
              "\n",
              "    <script>\n",
              "      const buttonEl =\n",
              "        document.querySelector('#df-b63c400d-f161-4066-9ca8-04301e5188a8 button.colab-df-convert');\n",
              "      buttonEl.style.display =\n",
              "        google.colab.kernel.accessAllowed ? 'block' : 'none';\n",
              "\n",
              "      async function convertToInteractive(key) {\n",
              "        const element = document.querySelector('#df-b63c400d-f161-4066-9ca8-04301e5188a8');\n",
              "        const dataTable =\n",
              "          await google.colab.kernel.invokeFunction('convertToInteractive',\n",
              "                                                    [key], {});\n",
              "        if (!dataTable) return;\n",
              "\n",
              "        const docLinkHtml = 'Like what you see? Visit the ' +\n",
              "          '<a target=\"_blank\" href=https://colab.research.google.com/notebooks/data_table.ipynb>data table notebook</a>'\n",
              "          + ' to learn more about interactive tables.';\n",
              "        element.innerHTML = '';\n",
              "        dataTable['output_type'] = 'display_data';\n",
              "        await google.colab.output.renderOutput(dataTable, element);\n",
              "        const docLink = document.createElement('div');\n",
              "        docLink.innerHTML = docLinkHtml;\n",
              "        element.appendChild(docLink);\n",
              "      }\n",
              "    </script>\n",
              "  </div>\n",
              "\n",
              "\n",
              "<div id=\"df-7f4c2326-2f90-4ac9-b8e7-17ef10414e0d\">\n",
              "  <button class=\"colab-df-quickchart\" onclick=\"quickchart('df-7f4c2326-2f90-4ac9-b8e7-17ef10414e0d')\"\n",
              "            title=\"Suggest charts\"\n",
              "            style=\"display:none;\">\n",
              "\n",
              "<svg xmlns=\"http://www.w3.org/2000/svg\" height=\"24px\"viewBox=\"0 0 24 24\"\n",
              "     width=\"24px\">\n",
              "    <g>\n",
              "        <path d=\"M19 3H5c-1.1 0-2 .9-2 2v14c0 1.1.9 2 2 2h14c1.1 0 2-.9 2-2V5c0-1.1-.9-2-2-2zM9 17H7v-7h2v7zm4 0h-2V7h2v10zm4 0h-2v-4h2v4z\"/>\n",
              "    </g>\n",
              "</svg>\n",
              "  </button>\n",
              "\n",
              "<style>\n",
              "  .colab-df-quickchart {\n",
              "      --bg-color: #E8F0FE;\n",
              "      --fill-color: #1967D2;\n",
              "      --hover-bg-color: #E2EBFA;\n",
              "      --hover-fill-color: #174EA6;\n",
              "      --disabled-fill-color: #AAA;\n",
              "      --disabled-bg-color: #DDD;\n",
              "  }\n",
              "\n",
              "  [theme=dark] .colab-df-quickchart {\n",
              "      --bg-color: #3B4455;\n",
              "      --fill-color: #D2E3FC;\n",
              "      --hover-bg-color: #434B5C;\n",
              "      --hover-fill-color: #FFFFFF;\n",
              "      --disabled-bg-color: #3B4455;\n",
              "      --disabled-fill-color: #666;\n",
              "  }\n",
              "\n",
              "  .colab-df-quickchart {\n",
              "    background-color: var(--bg-color);\n",
              "    border: none;\n",
              "    border-radius: 50%;\n",
              "    cursor: pointer;\n",
              "    display: none;\n",
              "    fill: var(--fill-color);\n",
              "    height: 32px;\n",
              "    padding: 0;\n",
              "    width: 32px;\n",
              "  }\n",
              "\n",
              "  .colab-df-quickchart:hover {\n",
              "    background-color: var(--hover-bg-color);\n",
              "    box-shadow: 0 1px 2px rgba(60, 64, 67, 0.3), 0 1px 3px 1px rgba(60, 64, 67, 0.15);\n",
              "    fill: var(--button-hover-fill-color);\n",
              "  }\n",
              "\n",
              "  .colab-df-quickchart-complete:disabled,\n",
              "  .colab-df-quickchart-complete:disabled:hover {\n",
              "    background-color: var(--disabled-bg-color);\n",
              "    fill: var(--disabled-fill-color);\n",
              "    box-shadow: none;\n",
              "  }\n",
              "\n",
              "  .colab-df-spinner {\n",
              "    border: 2px solid var(--fill-color);\n",
              "    border-color: transparent;\n",
              "    border-bottom-color: var(--fill-color);\n",
              "    animation:\n",
              "      spin 1s steps(1) infinite;\n",
              "  }\n",
              "\n",
              "  @keyframes spin {\n",
              "    0% {\n",
              "      border-color: transparent;\n",
              "      border-bottom-color: var(--fill-color);\n",
              "      border-left-color: var(--fill-color);\n",
              "    }\n",
              "    20% {\n",
              "      border-color: transparent;\n",
              "      border-left-color: var(--fill-color);\n",
              "      border-top-color: var(--fill-color);\n",
              "    }\n",
              "    30% {\n",
              "      border-color: transparent;\n",
              "      border-left-color: var(--fill-color);\n",
              "      border-top-color: var(--fill-color);\n",
              "      border-right-color: var(--fill-color);\n",
              "    }\n",
              "    40% {\n",
              "      border-color: transparent;\n",
              "      border-right-color: var(--fill-color);\n",
              "      border-top-color: var(--fill-color);\n",
              "    }\n",
              "    60% {\n",
              "      border-color: transparent;\n",
              "      border-right-color: var(--fill-color);\n",
              "    }\n",
              "    80% {\n",
              "      border-color: transparent;\n",
              "      border-right-color: var(--fill-color);\n",
              "      border-bottom-color: var(--fill-color);\n",
              "    }\n",
              "    90% {\n",
              "      border-color: transparent;\n",
              "      border-bottom-color: var(--fill-color);\n",
              "    }\n",
              "  }\n",
              "</style>\n",
              "\n",
              "  <script>\n",
              "    async function quickchart(key) {\n",
              "      const quickchartButtonEl =\n",
              "        document.querySelector('#' + key + ' button');\n",
              "      quickchartButtonEl.disabled = true;  // To prevent multiple clicks.\n",
              "      quickchartButtonEl.classList.add('colab-df-spinner');\n",
              "      try {\n",
              "        const charts = await google.colab.kernel.invokeFunction(\n",
              "            'suggestCharts', [key], {});\n",
              "      } catch (error) {\n",
              "        console.error('Error during call to suggestCharts:', error);\n",
              "      }\n",
              "      quickchartButtonEl.classList.remove('colab-df-spinner');\n",
              "      quickchartButtonEl.classList.add('colab-df-quickchart-complete');\n",
              "    }\n",
              "    (() => {\n",
              "      let quickchartButtonEl =\n",
              "        document.querySelector('#df-7f4c2326-2f90-4ac9-b8e7-17ef10414e0d button');\n",
              "      quickchartButtonEl.style.display =\n",
              "        google.colab.kernel.accessAllowed ? 'block' : 'none';\n",
              "    })();\n",
              "  </script>\n",
              "</div>\n",
              "\n",
              "    </div>\n",
              "  </div>\n"
            ],
            "text/plain": [
              "   s_no  Match ID      Date            Venue     bat_team     bowl_team  \\\n",
              "0     0   1339605  26-03-23  SuperSport Park  West Indies  South Africa   \n",
              "1     1   1339605  26-03-23  SuperSport Park  West Indies  South Africa   \n",
              "2     2   1339605  26-03-23  SuperSport Park  West Indies  South Africa   \n",
              "3     3   1339605  26-03-23  SuperSport Park  West Indies  South Africa   \n",
              "4     4   1339605  26-03-23  SuperSport Park  West Indies  South Africa   \n",
              "\n",
              "   Innings  overs  Ball    batsman  ...        Winner Chased Successfully  \\\n",
              "0        1      1     1    BA King  ...  South Africa                   1   \n",
              "1        1      1     2  KR Mayers  ...  South Africa                   1   \n",
              "2        1      1     3    BA King  ...  South Africa                   1   \n",
              "3        1      1     4  J Charles  ...  South Africa                   1   \n",
              "4        1      1     5  J Charles  ...  South Africa                   1   \n",
              "\n",
              "   Total Batter Runs  Total Non Striker Runs  Batter Balls Faced  \\\n",
              "0                  1                       0                   1   \n",
              "1                  1                       1                   1   \n",
              "2                  0                       1                   0   \n",
              "3                  0                       1                   1   \n",
              "4                  4                       1                   2   \n",
              "\n",
              "   Non Striker Balls Faced Player Out Runs  Player Out Balls Faced  \\\n",
              "0                        0             NaN                     NaN   \n",
              "1                        1             NaN                     NaN   \n",
              "2                        1             1.0                     2.0   \n",
              "3                        1             NaN                     NaN   \n",
              "4                        1             NaN                     NaN   \n",
              "\n",
              "  Bowler Runs Conceded Valid Ball  \n",
              "0                    1          1  \n",
              "1                    1          1  \n",
              "2                    0          1  \n",
              "3                    0          1  \n",
              "4                    4          1  \n",
              "\n",
              "[5 rows x 35 columns]"
            ]
          },
          "execution_count": 3,
          "metadata": {},
          "output_type": "execute_result"
        }
      ],
      "source": [
        "df.head()"
      ]
    },
    {
      "cell_type": "markdown",
      "metadata": {
        "id": "TOCPUXZPcDHs"
      },
      "source": [
        "# EDA – Exploratory Data Analysis"
      ]
    },
    {
      "cell_type": "code",
      "execution_count": null,
      "metadata": {
        "colab": {
          "base_uri": "https://localhost:8080/"
        },
        "id": "_LJki2jnb_pg",
        "outputId": "501a8d27-d965-4da7-d494-1ccb98b5d00e"
      },
      "outputs": [
        {
          "data": {
            "text/plain": [
              "(287363, 35)"
            ]
          },
          "execution_count": 4,
          "metadata": {},
          "output_type": "execute_result"
        }
      ],
      "source": [
        "df.shape\n"
      ]
    },
    {
      "cell_type": "code",
      "execution_count": null,
      "metadata": {
        "colab": {
          "base_uri": "https://localhost:8080/"
        },
        "id": "SfH_POIbcL4S",
        "outputId": "ee4a712c-c32c-4964-a96e-1f3c2027b597"
      },
      "outputs": [
        {
          "name": "stdout",
          "output_type": "stream",
          "text": [
            "<class 'pandas.core.frame.DataFrame'>\n",
            "RangeIndex: 287363 entries, 0 to 287362\n",
            "Data columns (total 35 columns):\n",
            " #   Column                   Non-Null Count   Dtype  \n",
            "---  ------                   --------------   -----  \n",
            " 0   s_no                     287363 non-null  int64  \n",
            " 1   Match ID                 287363 non-null  int64  \n",
            " 2   Date                     287363 non-null  object \n",
            " 3   Venue                    287363 non-null  object \n",
            " 4   bat_team                 287363 non-null  object \n",
            " 5   bowl_team                287363 non-null  object \n",
            " 6   Innings                  287363 non-null  int64  \n",
            " 7   overs                    287363 non-null  int64  \n",
            " 8   Ball                     287363 non-null  int64  \n",
            " 9   batsman                  287363 non-null  object \n",
            " 10  Non Striker              287363 non-null  object \n",
            " 11  bowler                   287363 non-null  object \n",
            " 12  Batter Runs              287363 non-null  int64  \n",
            " 13  Extra Runs               287363 non-null  int64  \n",
            " 14  Runs From Ball           287363 non-null  int64  \n",
            " 15  Ball Rebowled            287363 non-null  int64  \n",
            " 16  Extra Type               287363 non-null  object \n",
            " 17  Wicket                   287363 non-null  int64  \n",
            " 18  Method                   15701 non-null   object \n",
            " 19  Player Out               15701 non-null   object \n",
            " 20  runs                     287363 non-null  int64  \n",
            " 21  wickets                  287363 non-null  int64  \n",
            " 22  Target Score             287363 non-null  int64  \n",
            " 23  Runs to Get              136564 non-null  float64\n",
            " 24  Balls Remaining          287363 non-null  int64  \n",
            " 25  Winner                   287363 non-null  object \n",
            " 26  Chased Successfully      287363 non-null  int64  \n",
            " 27  Total Batter Runs        287363 non-null  int64  \n",
            " 28  Total Non Striker Runs   287363 non-null  int64  \n",
            " 29  Batter Balls Faced       287363 non-null  int64  \n",
            " 30  Non Striker Balls Faced  287363 non-null  int64  \n",
            " 31  Player Out Runs          15701 non-null   float64\n",
            " 32  Player Out Balls Faced   15701 non-null   float64\n",
            " 33  Bowler Runs Conceded     287363 non-null  int64  \n",
            " 34  Valid Ball               287363 non-null  int64  \n",
            "dtypes: float64(3), int64(21), object(11)\n",
            "memory usage: 76.7+ MB\n"
          ]
        }
      ],
      "source": [
        "df.info()"
      ]
    },
    {
      "cell_type": "code",
      "execution_count": null,
      "metadata": {
        "colab": {
          "base_uri": "https://localhost:8080/",
          "height": 1000
        },
        "id": "bRUaQXO6cPuY",
        "outputId": "761e4733-eeb7-434d-b0f6-a4f4edb120a4"
      },
      "outputs": [
        {
          "data": {
            "text/html": [
              "<div>\n",
              "<style scoped>\n",
              "    .dataframe tbody tr th:only-of-type {\n",
              "        vertical-align: middle;\n",
              "    }\n",
              "\n",
              "    .dataframe tbody tr th {\n",
              "        vertical-align: top;\n",
              "    }\n",
              "\n",
              "    .dataframe thead th {\n",
              "        text-align: right;\n",
              "    }\n",
              "</style>\n",
              "<table border=\"1\" class=\"dataframe\">\n",
              "  <thead>\n",
              "    <tr style=\"text-align: right;\">\n",
              "      <th></th>\n",
              "      <th>0</th>\n",
              "    </tr>\n",
              "  </thead>\n",
              "  <tbody>\n",
              "    <tr>\n",
              "      <th>s_no</th>\n",
              "      <td>0</td>\n",
              "    </tr>\n",
              "    <tr>\n",
              "      <th>Match ID</th>\n",
              "      <td>0</td>\n",
              "    </tr>\n",
              "    <tr>\n",
              "      <th>Date</th>\n",
              "      <td>0</td>\n",
              "    </tr>\n",
              "    <tr>\n",
              "      <th>Venue</th>\n",
              "      <td>0</td>\n",
              "    </tr>\n",
              "    <tr>\n",
              "      <th>bat_team</th>\n",
              "      <td>0</td>\n",
              "    </tr>\n",
              "    <tr>\n",
              "      <th>bowl_team</th>\n",
              "      <td>0</td>\n",
              "    </tr>\n",
              "    <tr>\n",
              "      <th>Innings</th>\n",
              "      <td>0</td>\n",
              "    </tr>\n",
              "    <tr>\n",
              "      <th>overs</th>\n",
              "      <td>0</td>\n",
              "    </tr>\n",
              "    <tr>\n",
              "      <th>Ball</th>\n",
              "      <td>0</td>\n",
              "    </tr>\n",
              "    <tr>\n",
              "      <th>batsman</th>\n",
              "      <td>0</td>\n",
              "    </tr>\n",
              "    <tr>\n",
              "      <th>Non Striker</th>\n",
              "      <td>0</td>\n",
              "    </tr>\n",
              "    <tr>\n",
              "      <th>bowler</th>\n",
              "      <td>0</td>\n",
              "    </tr>\n",
              "    <tr>\n",
              "      <th>Batter Runs</th>\n",
              "      <td>0</td>\n",
              "    </tr>\n",
              "    <tr>\n",
              "      <th>Extra Runs</th>\n",
              "      <td>0</td>\n",
              "    </tr>\n",
              "    <tr>\n",
              "      <th>Runs From Ball</th>\n",
              "      <td>0</td>\n",
              "    </tr>\n",
              "    <tr>\n",
              "      <th>Ball Rebowled</th>\n",
              "      <td>0</td>\n",
              "    </tr>\n",
              "    <tr>\n",
              "      <th>Extra Type</th>\n",
              "      <td>0</td>\n",
              "    </tr>\n",
              "    <tr>\n",
              "      <th>Wicket</th>\n",
              "      <td>0</td>\n",
              "    </tr>\n",
              "    <tr>\n",
              "      <th>Method</th>\n",
              "      <td>271662</td>\n",
              "    </tr>\n",
              "    <tr>\n",
              "      <th>Player Out</th>\n",
              "      <td>271662</td>\n",
              "    </tr>\n",
              "    <tr>\n",
              "      <th>runs</th>\n",
              "      <td>0</td>\n",
              "    </tr>\n",
              "    <tr>\n",
              "      <th>wickets</th>\n",
              "      <td>0</td>\n",
              "    </tr>\n",
              "    <tr>\n",
              "      <th>Target Score</th>\n",
              "      <td>0</td>\n",
              "    </tr>\n",
              "    <tr>\n",
              "      <th>Runs to Get</th>\n",
              "      <td>150799</td>\n",
              "    </tr>\n",
              "    <tr>\n",
              "      <th>Balls Remaining</th>\n",
              "      <td>0</td>\n",
              "    </tr>\n",
              "    <tr>\n",
              "      <th>Winner</th>\n",
              "      <td>0</td>\n",
              "    </tr>\n",
              "    <tr>\n",
              "      <th>Chased Successfully</th>\n",
              "      <td>0</td>\n",
              "    </tr>\n",
              "    <tr>\n",
              "      <th>Total Batter Runs</th>\n",
              "      <td>0</td>\n",
              "    </tr>\n",
              "    <tr>\n",
              "      <th>Total Non Striker Runs</th>\n",
              "      <td>0</td>\n",
              "    </tr>\n",
              "    <tr>\n",
              "      <th>Batter Balls Faced</th>\n",
              "      <td>0</td>\n",
              "    </tr>\n",
              "    <tr>\n",
              "      <th>Non Striker Balls Faced</th>\n",
              "      <td>0</td>\n",
              "    </tr>\n",
              "    <tr>\n",
              "      <th>Player Out Runs</th>\n",
              "      <td>271662</td>\n",
              "    </tr>\n",
              "    <tr>\n",
              "      <th>Player Out Balls Faced</th>\n",
              "      <td>271662</td>\n",
              "    </tr>\n",
              "    <tr>\n",
              "      <th>Bowler Runs Conceded</th>\n",
              "      <td>0</td>\n",
              "    </tr>\n",
              "    <tr>\n",
              "      <th>Valid Ball</th>\n",
              "      <td>0</td>\n",
              "    </tr>\n",
              "  </tbody>\n",
              "</table>\n",
              "</div><br><label><b>dtype:</b> int64</label>"
            ],
            "text/plain": [
              "s_no                            0\n",
              "Match ID                        0\n",
              "Date                            0\n",
              "Venue                           0\n",
              "bat_team                        0\n",
              "bowl_team                       0\n",
              "Innings                         0\n",
              "overs                           0\n",
              "Ball                            0\n",
              "batsman                         0\n",
              "Non Striker                     0\n",
              "bowler                          0\n",
              "Batter Runs                     0\n",
              "Extra Runs                      0\n",
              "Runs From Ball                  0\n",
              "Ball Rebowled                   0\n",
              "Extra Type                      0\n",
              "Wicket                          0\n",
              "Method                     271662\n",
              "Player Out                 271662\n",
              "runs                            0\n",
              "wickets                         0\n",
              "Target Score                    0\n",
              "Runs to Get                150799\n",
              "Balls Remaining                 0\n",
              "Winner                          0\n",
              "Chased Successfully             0\n",
              "Total Batter Runs               0\n",
              "Total Non Striker Runs          0\n",
              "Batter Balls Faced              0\n",
              "Non Striker Balls Faced         0\n",
              "Player Out Runs            271662\n",
              "Player Out Balls Faced     271662\n",
              "Bowler Runs Conceded            0\n",
              "Valid Ball                      0\n",
              "dtype: int64"
            ]
          },
          "execution_count": 6,
          "metadata": {},
          "output_type": "execute_result"
        }
      ],
      "source": [
        "df.isnull().sum()"
      ]
    },
    {
      "cell_type": "code",
      "execution_count": null,
      "metadata": {
        "colab": {
          "base_uri": "https://localhost:8080/",
          "height": 367
        },
        "id": "T43uOe8HcTb0",
        "outputId": "1b98543a-5978-4b73-d32e-d7caacc1537b"
      },
      "outputs": [
        {
          "data": {
            "application/vnd.google.colaboratory.intrinsic+json": {
              "type": "dataframe"
            },
            "text/html": [
              "\n",
              "  <div id=\"df-ca5cb8d9-6acf-4c3e-8a1a-4f8dcd493ae6\" class=\"colab-df-container\">\n",
              "    <div>\n",
              "<style scoped>\n",
              "    .dataframe tbody tr th:only-of-type {\n",
              "        vertical-align: middle;\n",
              "    }\n",
              "\n",
              "    .dataframe tbody tr th {\n",
              "        vertical-align: top;\n",
              "    }\n",
              "\n",
              "    .dataframe thead th {\n",
              "        text-align: right;\n",
              "    }\n",
              "</style>\n",
              "<table border=\"1\" class=\"dataframe\">\n",
              "  <thead>\n",
              "    <tr style=\"text-align: right;\">\n",
              "      <th></th>\n",
              "      <th>s_no</th>\n",
              "      <th>Match ID</th>\n",
              "      <th>Innings</th>\n",
              "      <th>overs</th>\n",
              "      <th>Ball</th>\n",
              "      <th>Batter Runs</th>\n",
              "      <th>Extra Runs</th>\n",
              "      <th>Runs From Ball</th>\n",
              "      <th>Ball Rebowled</th>\n",
              "      <th>Wicket</th>\n",
              "      <th>...</th>\n",
              "      <th>Balls Remaining</th>\n",
              "      <th>Chased Successfully</th>\n",
              "      <th>Total Batter Runs</th>\n",
              "      <th>Total Non Striker Runs</th>\n",
              "      <th>Batter Balls Faced</th>\n",
              "      <th>Non Striker Balls Faced</th>\n",
              "      <th>Player Out Runs</th>\n",
              "      <th>Player Out Balls Faced</th>\n",
              "      <th>Bowler Runs Conceded</th>\n",
              "      <th>Valid Ball</th>\n",
              "    </tr>\n",
              "  </thead>\n",
              "  <tbody>\n",
              "    <tr>\n",
              "      <th>count</th>\n",
              "      <td>287363.000000</td>\n",
              "      <td>2.873630e+05</td>\n",
              "      <td>287363.000000</td>\n",
              "      <td>287363.000000</td>\n",
              "      <td>287363.000000</td>\n",
              "      <td>287363.000000</td>\n",
              "      <td>287363.000000</td>\n",
              "      <td>287363.000000</td>\n",
              "      <td>287363.000000</td>\n",
              "      <td>287363.000000</td>\n",
              "      <td>...</td>\n",
              "      <td>287363.000000</td>\n",
              "      <td>287363.000000</td>\n",
              "      <td>287363.000000</td>\n",
              "      <td>287363.000000</td>\n",
              "      <td>287363.000000</td>\n",
              "      <td>287363.000000</td>\n",
              "      <td>15701.000000</td>\n",
              "      <td>15701.000000</td>\n",
              "      <td>287363.000000</td>\n",
              "      <td>287363.000000</td>\n",
              "    </tr>\n",
              "    <tr>\n",
              "      <th>mean</th>\n",
              "      <td>211742.861346</td>\n",
              "      <td>1.011221e+06</td>\n",
              "      <td>1.475232</td>\n",
              "      <td>10.026969</td>\n",
              "      <td>3.487864</td>\n",
              "      <td>1.176550</td>\n",
              "      <td>0.072563</td>\n",
              "      <td>1.249113</td>\n",
              "      <td>0.038150</td>\n",
              "      <td>0.054638</td>\n",
              "      <td>...</td>\n",
              "      <td>62.388470</td>\n",
              "      <td>0.478144</td>\n",
              "      <td>15.365969</td>\n",
              "      <td>14.607082</td>\n",
              "      <td>12.657983</td>\n",
              "      <td>12.324885</td>\n",
              "      <td>16.204573</td>\n",
              "      <td>14.109292</td>\n",
              "      <td>1.222266</td>\n",
              "      <td>0.961850</td>\n",
              "    </tr>\n",
              "    <tr>\n",
              "      <th>std</th>\n",
              "      <td>122939.391170</td>\n",
              "      <td>3.496445e+05</td>\n",
              "      <td>0.499387</td>\n",
              "      <td>5.641968</td>\n",
              "      <td>1.708401</td>\n",
              "      <td>1.568652</td>\n",
              "      <td>0.354971</td>\n",
              "      <td>1.557802</td>\n",
              "      <td>0.191559</td>\n",
              "      <td>0.227273</td>\n",
              "      <td>...</td>\n",
              "      <td>33.885567</td>\n",
              "      <td>0.499523</td>\n",
              "      <td>17.102373</td>\n",
              "      <td>16.490763</td>\n",
              "      <td>11.583905</td>\n",
              "      <td>11.468139</td>\n",
              "      <td>17.988094</td>\n",
              "      <td>12.118987</td>\n",
              "      <td>1.561715</td>\n",
              "      <td>0.191559</td>\n",
              "    </tr>\n",
              "    <tr>\n",
              "      <th>min</th>\n",
              "      <td>0.000000</td>\n",
              "      <td>2.110280e+05</td>\n",
              "      <td>1.000000</td>\n",
              "      <td>1.000000</td>\n",
              "      <td>0.000000</td>\n",
              "      <td>0.000000</td>\n",
              "      <td>0.000000</td>\n",
              "      <td>0.000000</td>\n",
              "      <td>0.000000</td>\n",
              "      <td>0.000000</td>\n",
              "      <td>...</td>\n",
              "      <td>-1.000000</td>\n",
              "      <td>0.000000</td>\n",
              "      <td>0.000000</td>\n",
              "      <td>0.000000</td>\n",
              "      <td>0.000000</td>\n",
              "      <td>0.000000</td>\n",
              "      <td>0.000000</td>\n",
              "      <td>0.000000</td>\n",
              "      <td>0.000000</td>\n",
              "      <td>0.000000</td>\n",
              "    </tr>\n",
              "    <tr>\n",
              "      <th>25%</th>\n",
              "      <td>105831.500000</td>\n",
              "      <td>6.829190e+05</td>\n",
              "      <td>1.000000</td>\n",
              "      <td>5.000000</td>\n",
              "      <td>2.000000</td>\n",
              "      <td>0.000000</td>\n",
              "      <td>0.000000</td>\n",
              "      <td>0.000000</td>\n",
              "      <td>0.000000</td>\n",
              "      <td>0.000000</td>\n",
              "      <td>...</td>\n",
              "      <td>34.000000</td>\n",
              "      <td>0.000000</td>\n",
              "      <td>2.000000</td>\n",
              "      <td>2.000000</td>\n",
              "      <td>4.000000</td>\n",
              "      <td>3.000000</td>\n",
              "      <td>3.000000</td>\n",
              "      <td>5.000000</td>\n",
              "      <td>0.000000</td>\n",
              "      <td>1.000000</td>\n",
              "    </tr>\n",
              "    <tr>\n",
              "      <th>50%</th>\n",
              "      <td>211175.000000</td>\n",
              "      <td>1.185314e+06</td>\n",
              "      <td>1.000000</td>\n",
              "      <td>10.000000</td>\n",
              "      <td>3.000000</td>\n",
              "      <td>1.000000</td>\n",
              "      <td>0.000000</td>\n",
              "      <td>1.000000</td>\n",
              "      <td>0.000000</td>\n",
              "      <td>0.000000</td>\n",
              "      <td>...</td>\n",
              "      <td>63.000000</td>\n",
              "      <td>0.000000</td>\n",
              "      <td>10.000000</td>\n",
              "      <td>9.000000</td>\n",
              "      <td>9.000000</td>\n",
              "      <td>9.000000</td>\n",
              "      <td>10.000000</td>\n",
              "      <td>10.000000</td>\n",
              "      <td>1.000000</td>\n",
              "      <td>1.000000</td>\n",
              "    </tr>\n",
              "    <tr>\n",
              "      <th>75%</th>\n",
              "      <td>318085.500000</td>\n",
              "      <td>1.283044e+06</td>\n",
              "      <td>2.000000</td>\n",
              "      <td>15.000000</td>\n",
              "      <td>5.000000</td>\n",
              "      <td>1.000000</td>\n",
              "      <td>0.000000</td>\n",
              "      <td>1.000000</td>\n",
              "      <td>0.000000</td>\n",
              "      <td>0.000000</td>\n",
              "      <td>...</td>\n",
              "      <td>92.000000</td>\n",
              "      <td>1.000000</td>\n",
              "      <td>22.000000</td>\n",
              "      <td>22.000000</td>\n",
              "      <td>18.000000</td>\n",
              "      <td>18.000000</td>\n",
              "      <td>23.000000</td>\n",
              "      <td>20.000000</td>\n",
              "      <td>1.000000</td>\n",
              "      <td>1.000000</td>\n",
              "    </tr>\n",
              "    <tr>\n",
              "      <th>max</th>\n",
              "      <td>425118.000000</td>\n",
              "      <td>1.393328e+06</td>\n",
              "      <td>2.000000</td>\n",
              "      <td>20.000000</td>\n",
              "      <td>7.000000</td>\n",
              "      <td>7.000000</td>\n",
              "      <td>6.000000</td>\n",
              "      <td>8.000000</td>\n",
              "      <td>1.000000</td>\n",
              "      <td>1.000000</td>\n",
              "      <td>...</td>\n",
              "      <td>120.000000</td>\n",
              "      <td>1.000000</td>\n",
              "      <td>172.000000</td>\n",
              "      <td>168.000000</td>\n",
              "      <td>76.000000</td>\n",
              "      <td>74.000000</td>\n",
              "      <td>172.000000</td>\n",
              "      <td>76.000000</td>\n",
              "      <td>8.000000</td>\n",
              "      <td>1.000000</td>\n",
              "    </tr>\n",
              "  </tbody>\n",
              "</table>\n",
              "<p>8 rows × 24 columns</p>\n",
              "</div>\n",
              "    <div class=\"colab-df-buttons\">\n",
              "\n",
              "  <div class=\"colab-df-container\">\n",
              "    <button class=\"colab-df-convert\" onclick=\"convertToInteractive('df-ca5cb8d9-6acf-4c3e-8a1a-4f8dcd493ae6')\"\n",
              "            title=\"Convert this dataframe to an interactive table.\"\n",
              "            style=\"display:none;\">\n",
              "\n",
              "  <svg xmlns=\"http://www.w3.org/2000/svg\" height=\"24px\" viewBox=\"0 -960 960 960\">\n",
              "    <path d=\"M120-120v-720h720v720H120Zm60-500h600v-160H180v160Zm220 220h160v-160H400v160Zm0 220h160v-160H400v160ZM180-400h160v-160H180v160Zm440 0h160v-160H620v160ZM180-180h160v-160H180v160Zm440 0h160v-160H620v160Z\"/>\n",
              "  </svg>\n",
              "    </button>\n",
              "\n",
              "  <style>\n",
              "    .colab-df-container {\n",
              "      display:flex;\n",
              "      gap: 12px;\n",
              "    }\n",
              "\n",
              "    .colab-df-convert {\n",
              "      background-color: #E8F0FE;\n",
              "      border: none;\n",
              "      border-radius: 50%;\n",
              "      cursor: pointer;\n",
              "      display: none;\n",
              "      fill: #1967D2;\n",
              "      height: 32px;\n",
              "      padding: 0 0 0 0;\n",
              "      width: 32px;\n",
              "    }\n",
              "\n",
              "    .colab-df-convert:hover {\n",
              "      background-color: #E2EBFA;\n",
              "      box-shadow: 0px 1px 2px rgba(60, 64, 67, 0.3), 0px 1px 3px 1px rgba(60, 64, 67, 0.15);\n",
              "      fill: #174EA6;\n",
              "    }\n",
              "\n",
              "    .colab-df-buttons div {\n",
              "      margin-bottom: 4px;\n",
              "    }\n",
              "\n",
              "    [theme=dark] .colab-df-convert {\n",
              "      background-color: #3B4455;\n",
              "      fill: #D2E3FC;\n",
              "    }\n",
              "\n",
              "    [theme=dark] .colab-df-convert:hover {\n",
              "      background-color: #434B5C;\n",
              "      box-shadow: 0px 1px 3px 1px rgba(0, 0, 0, 0.15);\n",
              "      filter: drop-shadow(0px 1px 2px rgba(0, 0, 0, 0.3));\n",
              "      fill: #FFFFFF;\n",
              "    }\n",
              "  </style>\n",
              "\n",
              "    <script>\n",
              "      const buttonEl =\n",
              "        document.querySelector('#df-ca5cb8d9-6acf-4c3e-8a1a-4f8dcd493ae6 button.colab-df-convert');\n",
              "      buttonEl.style.display =\n",
              "        google.colab.kernel.accessAllowed ? 'block' : 'none';\n",
              "\n",
              "      async function convertToInteractive(key) {\n",
              "        const element = document.querySelector('#df-ca5cb8d9-6acf-4c3e-8a1a-4f8dcd493ae6');\n",
              "        const dataTable =\n",
              "          await google.colab.kernel.invokeFunction('convertToInteractive',\n",
              "                                                    [key], {});\n",
              "        if (!dataTable) return;\n",
              "\n",
              "        const docLinkHtml = 'Like what you see? Visit the ' +\n",
              "          '<a target=\"_blank\" href=https://colab.research.google.com/notebooks/data_table.ipynb>data table notebook</a>'\n",
              "          + ' to learn more about interactive tables.';\n",
              "        element.innerHTML = '';\n",
              "        dataTable['output_type'] = 'display_data';\n",
              "        await google.colab.output.renderOutput(dataTable, element);\n",
              "        const docLink = document.createElement('div');\n",
              "        docLink.innerHTML = docLinkHtml;\n",
              "        element.appendChild(docLink);\n",
              "      }\n",
              "    </script>\n",
              "  </div>\n",
              "\n",
              "\n",
              "<div id=\"df-8c01c3a3-0f5d-4057-8f64-4ce4745252d9\">\n",
              "  <button class=\"colab-df-quickchart\" onclick=\"quickchart('df-8c01c3a3-0f5d-4057-8f64-4ce4745252d9')\"\n",
              "            title=\"Suggest charts\"\n",
              "            style=\"display:none;\">\n",
              "\n",
              "<svg xmlns=\"http://www.w3.org/2000/svg\" height=\"24px\"viewBox=\"0 0 24 24\"\n",
              "     width=\"24px\">\n",
              "    <g>\n",
              "        <path d=\"M19 3H5c-1.1 0-2 .9-2 2v14c0 1.1.9 2 2 2h14c1.1 0 2-.9 2-2V5c0-1.1-.9-2-2-2zM9 17H7v-7h2v7zm4 0h-2V7h2v10zm4 0h-2v-4h2v4z\"/>\n",
              "    </g>\n",
              "</svg>\n",
              "  </button>\n",
              "\n",
              "<style>\n",
              "  .colab-df-quickchart {\n",
              "      --bg-color: #E8F0FE;\n",
              "      --fill-color: #1967D2;\n",
              "      --hover-bg-color: #E2EBFA;\n",
              "      --hover-fill-color: #174EA6;\n",
              "      --disabled-fill-color: #AAA;\n",
              "      --disabled-bg-color: #DDD;\n",
              "  }\n",
              "\n",
              "  [theme=dark] .colab-df-quickchart {\n",
              "      --bg-color: #3B4455;\n",
              "      --fill-color: #D2E3FC;\n",
              "      --hover-bg-color: #434B5C;\n",
              "      --hover-fill-color: #FFFFFF;\n",
              "      --disabled-bg-color: #3B4455;\n",
              "      --disabled-fill-color: #666;\n",
              "  }\n",
              "\n",
              "  .colab-df-quickchart {\n",
              "    background-color: var(--bg-color);\n",
              "    border: none;\n",
              "    border-radius: 50%;\n",
              "    cursor: pointer;\n",
              "    display: none;\n",
              "    fill: var(--fill-color);\n",
              "    height: 32px;\n",
              "    padding: 0;\n",
              "    width: 32px;\n",
              "  }\n",
              "\n",
              "  .colab-df-quickchart:hover {\n",
              "    background-color: var(--hover-bg-color);\n",
              "    box-shadow: 0 1px 2px rgba(60, 64, 67, 0.3), 0 1px 3px 1px rgba(60, 64, 67, 0.15);\n",
              "    fill: var(--button-hover-fill-color);\n",
              "  }\n",
              "\n",
              "  .colab-df-quickchart-complete:disabled,\n",
              "  .colab-df-quickchart-complete:disabled:hover {\n",
              "    background-color: var(--disabled-bg-color);\n",
              "    fill: var(--disabled-fill-color);\n",
              "    box-shadow: none;\n",
              "  }\n",
              "\n",
              "  .colab-df-spinner {\n",
              "    border: 2px solid var(--fill-color);\n",
              "    border-color: transparent;\n",
              "    border-bottom-color: var(--fill-color);\n",
              "    animation:\n",
              "      spin 1s steps(1) infinite;\n",
              "  }\n",
              "\n",
              "  @keyframes spin {\n",
              "    0% {\n",
              "      border-color: transparent;\n",
              "      border-bottom-color: var(--fill-color);\n",
              "      border-left-color: var(--fill-color);\n",
              "    }\n",
              "    20% {\n",
              "      border-color: transparent;\n",
              "      border-left-color: var(--fill-color);\n",
              "      border-top-color: var(--fill-color);\n",
              "    }\n",
              "    30% {\n",
              "      border-color: transparent;\n",
              "      border-left-color: var(--fill-color);\n",
              "      border-top-color: var(--fill-color);\n",
              "      border-right-color: var(--fill-color);\n",
              "    }\n",
              "    40% {\n",
              "      border-color: transparent;\n",
              "      border-right-color: var(--fill-color);\n",
              "      border-top-color: var(--fill-color);\n",
              "    }\n",
              "    60% {\n",
              "      border-color: transparent;\n",
              "      border-right-color: var(--fill-color);\n",
              "    }\n",
              "    80% {\n",
              "      border-color: transparent;\n",
              "      border-right-color: var(--fill-color);\n",
              "      border-bottom-color: var(--fill-color);\n",
              "    }\n",
              "    90% {\n",
              "      border-color: transparent;\n",
              "      border-bottom-color: var(--fill-color);\n",
              "    }\n",
              "  }\n",
              "</style>\n",
              "\n",
              "  <script>\n",
              "    async function quickchart(key) {\n",
              "      const quickchartButtonEl =\n",
              "        document.querySelector('#' + key + ' button');\n",
              "      quickchartButtonEl.disabled = true;  // To prevent multiple clicks.\n",
              "      quickchartButtonEl.classList.add('colab-df-spinner');\n",
              "      try {\n",
              "        const charts = await google.colab.kernel.invokeFunction(\n",
              "            'suggestCharts', [key], {});\n",
              "      } catch (error) {\n",
              "        console.error('Error during call to suggestCharts:', error);\n",
              "      }\n",
              "      quickchartButtonEl.classList.remove('colab-df-spinner');\n",
              "      quickchartButtonEl.classList.add('colab-df-quickchart-complete');\n",
              "    }\n",
              "    (() => {\n",
              "      let quickchartButtonEl =\n",
              "        document.querySelector('#df-8c01c3a3-0f5d-4057-8f64-4ce4745252d9 button');\n",
              "      quickchartButtonEl.style.display =\n",
              "        google.colab.kernel.accessAllowed ? 'block' : 'none';\n",
              "    })();\n",
              "  </script>\n",
              "</div>\n",
              "\n",
              "    </div>\n",
              "  </div>\n"
            ],
            "text/plain": [
              "                s_no      Match ID        Innings          overs  \\\n",
              "count  287363.000000  2.873630e+05  287363.000000  287363.000000   \n",
              "mean   211742.861346  1.011221e+06       1.475232      10.026969   \n",
              "std    122939.391170  3.496445e+05       0.499387       5.641968   \n",
              "min         0.000000  2.110280e+05       1.000000       1.000000   \n",
              "25%    105831.500000  6.829190e+05       1.000000       5.000000   \n",
              "50%    211175.000000  1.185314e+06       1.000000      10.000000   \n",
              "75%    318085.500000  1.283044e+06       2.000000      15.000000   \n",
              "max    425118.000000  1.393328e+06       2.000000      20.000000   \n",
              "\n",
              "                Ball    Batter Runs     Extra Runs  Runs From Ball  \\\n",
              "count  287363.000000  287363.000000  287363.000000   287363.000000   \n",
              "mean        3.487864       1.176550       0.072563        1.249113   \n",
              "std         1.708401       1.568652       0.354971        1.557802   \n",
              "min         0.000000       0.000000       0.000000        0.000000   \n",
              "25%         2.000000       0.000000       0.000000        0.000000   \n",
              "50%         3.000000       1.000000       0.000000        1.000000   \n",
              "75%         5.000000       1.000000       0.000000        1.000000   \n",
              "max         7.000000       7.000000       6.000000        8.000000   \n",
              "\n",
              "       Ball Rebowled         Wicket  ...  Balls Remaining  \\\n",
              "count  287363.000000  287363.000000  ...    287363.000000   \n",
              "mean        0.038150       0.054638  ...        62.388470   \n",
              "std         0.191559       0.227273  ...        33.885567   \n",
              "min         0.000000       0.000000  ...        -1.000000   \n",
              "25%         0.000000       0.000000  ...        34.000000   \n",
              "50%         0.000000       0.000000  ...        63.000000   \n",
              "75%         0.000000       0.000000  ...        92.000000   \n",
              "max         1.000000       1.000000  ...       120.000000   \n",
              "\n",
              "       Chased Successfully  Total Batter Runs  Total Non Striker Runs  \\\n",
              "count        287363.000000      287363.000000           287363.000000   \n",
              "mean              0.478144          15.365969               14.607082   \n",
              "std               0.499523          17.102373               16.490763   \n",
              "min               0.000000           0.000000                0.000000   \n",
              "25%               0.000000           2.000000                2.000000   \n",
              "50%               0.000000          10.000000                9.000000   \n",
              "75%               1.000000          22.000000               22.000000   \n",
              "max               1.000000         172.000000              168.000000   \n",
              "\n",
              "       Batter Balls Faced  Non Striker Balls Faced  Player Out Runs  \\\n",
              "count       287363.000000            287363.000000     15701.000000   \n",
              "mean            12.657983                12.324885        16.204573   \n",
              "std             11.583905                11.468139        17.988094   \n",
              "min              0.000000                 0.000000         0.000000   \n",
              "25%              4.000000                 3.000000         3.000000   \n",
              "50%              9.000000                 9.000000        10.000000   \n",
              "75%             18.000000                18.000000        23.000000   \n",
              "max             76.000000                74.000000       172.000000   \n",
              "\n",
              "       Player Out Balls Faced  Bowler Runs Conceded     Valid Ball  \n",
              "count            15701.000000         287363.000000  287363.000000  \n",
              "mean                14.109292              1.222266       0.961850  \n",
              "std                 12.118987              1.561715       0.191559  \n",
              "min                  0.000000              0.000000       0.000000  \n",
              "25%                  5.000000              0.000000       1.000000  \n",
              "50%                 10.000000              1.000000       1.000000  \n",
              "75%                 20.000000              1.000000       1.000000  \n",
              "max                 76.000000              8.000000       1.000000  \n",
              "\n",
              "[8 rows x 24 columns]"
            ]
          },
          "execution_count": 7,
          "metadata": {},
          "output_type": "execute_result"
        }
      ],
      "source": [
        "df.describe()"
      ]
    },
    {
      "cell_type": "code",
      "execution_count": null,
      "metadata": {
        "colab": {
          "base_uri": "https://localhost:8080/",
          "height": 287
        },
        "id": "0Ud6kcV5cXNZ",
        "outputId": "4d2df16f-2f6a-4a87-dec5-ec381d7fc271"
      },
      "outputs": [
        {
          "ename": "ValueError",
          "evalue": "could not convert string to float: '26-03-23'",
          "output_type": "error",
          "traceback": [
            "\u001b[0;31m---------------------------------------------------------------------------\u001b[0m",
            "\u001b[0;31mValueError\u001b[0m                                Traceback (most recent call last)",
            "\u001b[0;32m<ipython-input-9-630f81124fd9>\u001b[0m in \u001b[0;36m<cell line: 1>\u001b[0;34m()\u001b[0m\n\u001b[0;32m----> 1\u001b[0;31m \u001b[0mdf\u001b[0m\u001b[0;34m.\u001b[0m\u001b[0mcorr\u001b[0m\u001b[0;34m(\u001b[0m\u001b[0;34m)\u001b[0m\u001b[0;34m[\u001b[0m\u001b[0;34m'runs'\u001b[0m\u001b[0;34m]\u001b[0m\u001b[0;34m\u001b[0m\u001b[0;34m\u001b[0m\u001b[0m\n\u001b[0m",
            "\u001b[0;32m/usr/local/lib/python3.10/dist-packages/pandas/core/frame.py\u001b[0m in \u001b[0;36mcorr\u001b[0;34m(self, method, min_periods, numeric_only)\u001b[0m\n\u001b[1;32m  11047\u001b[0m         \u001b[0mcols\u001b[0m \u001b[0;34m=\u001b[0m \u001b[0mdata\u001b[0m\u001b[0;34m.\u001b[0m\u001b[0mcolumns\u001b[0m\u001b[0;34m\u001b[0m\u001b[0;34m\u001b[0m\u001b[0m\n\u001b[1;32m  11048\u001b[0m         \u001b[0midx\u001b[0m \u001b[0;34m=\u001b[0m \u001b[0mcols\u001b[0m\u001b[0;34m.\u001b[0m\u001b[0mcopy\u001b[0m\u001b[0;34m(\u001b[0m\u001b[0;34m)\u001b[0m\u001b[0;34m\u001b[0m\u001b[0;34m\u001b[0m\u001b[0m\n\u001b[0;32m> 11049\u001b[0;31m         \u001b[0mmat\u001b[0m \u001b[0;34m=\u001b[0m \u001b[0mdata\u001b[0m\u001b[0;34m.\u001b[0m\u001b[0mto_numpy\u001b[0m\u001b[0;34m(\u001b[0m\u001b[0mdtype\u001b[0m\u001b[0;34m=\u001b[0m\u001b[0mfloat\u001b[0m\u001b[0;34m,\u001b[0m \u001b[0mna_value\u001b[0m\u001b[0;34m=\u001b[0m\u001b[0mnp\u001b[0m\u001b[0;34m.\u001b[0m\u001b[0mnan\u001b[0m\u001b[0;34m,\u001b[0m \u001b[0mcopy\u001b[0m\u001b[0;34m=\u001b[0m\u001b[0;32mFalse\u001b[0m\u001b[0;34m)\u001b[0m\u001b[0;34m\u001b[0m\u001b[0;34m\u001b[0m\u001b[0m\n\u001b[0m\u001b[1;32m  11050\u001b[0m \u001b[0;34m\u001b[0m\u001b[0m\n\u001b[1;32m  11051\u001b[0m         \u001b[0;32mif\u001b[0m \u001b[0mmethod\u001b[0m \u001b[0;34m==\u001b[0m \u001b[0;34m\"pearson\"\u001b[0m\u001b[0;34m:\u001b[0m\u001b[0;34m\u001b[0m\u001b[0;34m\u001b[0m\u001b[0m\n",
            "\u001b[0;32m/usr/local/lib/python3.10/dist-packages/pandas/core/frame.py\u001b[0m in \u001b[0;36mto_numpy\u001b[0;34m(self, dtype, copy, na_value)\u001b[0m\n\u001b[1;32m   1991\u001b[0m         \u001b[0;32mif\u001b[0m \u001b[0mdtype\u001b[0m \u001b[0;32mis\u001b[0m \u001b[0;32mnot\u001b[0m \u001b[0;32mNone\u001b[0m\u001b[0;34m:\u001b[0m\u001b[0;34m\u001b[0m\u001b[0;34m\u001b[0m\u001b[0m\n\u001b[1;32m   1992\u001b[0m             \u001b[0mdtype\u001b[0m \u001b[0;34m=\u001b[0m \u001b[0mnp\u001b[0m\u001b[0;34m.\u001b[0m\u001b[0mdtype\u001b[0m\u001b[0;34m(\u001b[0m\u001b[0mdtype\u001b[0m\u001b[0;34m)\u001b[0m\u001b[0;34m\u001b[0m\u001b[0;34m\u001b[0m\u001b[0m\n\u001b[0;32m-> 1993\u001b[0;31m         \u001b[0mresult\u001b[0m \u001b[0;34m=\u001b[0m \u001b[0mself\u001b[0m\u001b[0;34m.\u001b[0m\u001b[0m_mgr\u001b[0m\u001b[0;34m.\u001b[0m\u001b[0mas_array\u001b[0m\u001b[0;34m(\u001b[0m\u001b[0mdtype\u001b[0m\u001b[0;34m=\u001b[0m\u001b[0mdtype\u001b[0m\u001b[0;34m,\u001b[0m \u001b[0mcopy\u001b[0m\u001b[0;34m=\u001b[0m\u001b[0mcopy\u001b[0m\u001b[0;34m,\u001b[0m \u001b[0mna_value\u001b[0m\u001b[0;34m=\u001b[0m\u001b[0mna_value\u001b[0m\u001b[0;34m)\u001b[0m\u001b[0;34m\u001b[0m\u001b[0;34m\u001b[0m\u001b[0m\n\u001b[0m\u001b[1;32m   1994\u001b[0m         \u001b[0;32mif\u001b[0m \u001b[0mresult\u001b[0m\u001b[0;34m.\u001b[0m\u001b[0mdtype\u001b[0m \u001b[0;32mis\u001b[0m \u001b[0;32mnot\u001b[0m \u001b[0mdtype\u001b[0m\u001b[0;34m:\u001b[0m\u001b[0;34m\u001b[0m\u001b[0;34m\u001b[0m\u001b[0m\n\u001b[1;32m   1995\u001b[0m             \u001b[0mresult\u001b[0m \u001b[0;34m=\u001b[0m \u001b[0mnp\u001b[0m\u001b[0;34m.\u001b[0m\u001b[0masarray\u001b[0m\u001b[0;34m(\u001b[0m\u001b[0mresult\u001b[0m\u001b[0;34m,\u001b[0m \u001b[0mdtype\u001b[0m\u001b[0;34m=\u001b[0m\u001b[0mdtype\u001b[0m\u001b[0;34m)\u001b[0m\u001b[0;34m\u001b[0m\u001b[0;34m\u001b[0m\u001b[0m\n",
            "\u001b[0;32m/usr/local/lib/python3.10/dist-packages/pandas/core/internals/managers.py\u001b[0m in \u001b[0;36mas_array\u001b[0;34m(self, dtype, copy, na_value)\u001b[0m\n\u001b[1;32m   1692\u001b[0m                 \u001b[0marr\u001b[0m\u001b[0;34m.\u001b[0m\u001b[0mflags\u001b[0m\u001b[0;34m.\u001b[0m\u001b[0mwriteable\u001b[0m \u001b[0;34m=\u001b[0m \u001b[0;32mFalse\u001b[0m\u001b[0;34m\u001b[0m\u001b[0;34m\u001b[0m\u001b[0m\n\u001b[1;32m   1693\u001b[0m         \u001b[0;32melse\u001b[0m\u001b[0;34m:\u001b[0m\u001b[0;34m\u001b[0m\u001b[0;34m\u001b[0m\u001b[0m\n\u001b[0;32m-> 1694\u001b[0;31m             \u001b[0marr\u001b[0m \u001b[0;34m=\u001b[0m \u001b[0mself\u001b[0m\u001b[0;34m.\u001b[0m\u001b[0m_interleave\u001b[0m\u001b[0;34m(\u001b[0m\u001b[0mdtype\u001b[0m\u001b[0;34m=\u001b[0m\u001b[0mdtype\u001b[0m\u001b[0;34m,\u001b[0m \u001b[0mna_value\u001b[0m\u001b[0;34m=\u001b[0m\u001b[0mna_value\u001b[0m\u001b[0;34m)\u001b[0m\u001b[0;34m\u001b[0m\u001b[0;34m\u001b[0m\u001b[0m\n\u001b[0m\u001b[1;32m   1695\u001b[0m             \u001b[0;31m# The underlying data was copied within _interleave, so no need\u001b[0m\u001b[0;34m\u001b[0m\u001b[0;34m\u001b[0m\u001b[0m\n\u001b[1;32m   1696\u001b[0m             \u001b[0;31m# to further copy if copy=True or setting na_value\u001b[0m\u001b[0;34m\u001b[0m\u001b[0;34m\u001b[0m\u001b[0m\n",
            "\u001b[0;32m/usr/local/lib/python3.10/dist-packages/pandas/core/internals/managers.py\u001b[0m in \u001b[0;36m_interleave\u001b[0;34m(self, dtype, na_value)\u001b[0m\n\u001b[1;32m   1751\u001b[0m             \u001b[0;32melse\u001b[0m\u001b[0;34m:\u001b[0m\u001b[0;34m\u001b[0m\u001b[0;34m\u001b[0m\u001b[0m\n\u001b[1;32m   1752\u001b[0m                 \u001b[0marr\u001b[0m \u001b[0;34m=\u001b[0m \u001b[0mblk\u001b[0m\u001b[0;34m.\u001b[0m\u001b[0mget_values\u001b[0m\u001b[0;34m(\u001b[0m\u001b[0mdtype\u001b[0m\u001b[0;34m)\u001b[0m\u001b[0;34m\u001b[0m\u001b[0;34m\u001b[0m\u001b[0m\n\u001b[0;32m-> 1753\u001b[0;31m             \u001b[0mresult\u001b[0m\u001b[0;34m[\u001b[0m\u001b[0mrl\u001b[0m\u001b[0;34m.\u001b[0m\u001b[0mindexer\u001b[0m\u001b[0;34m]\u001b[0m \u001b[0;34m=\u001b[0m \u001b[0marr\u001b[0m\u001b[0;34m\u001b[0m\u001b[0;34m\u001b[0m\u001b[0m\n\u001b[0m\u001b[1;32m   1754\u001b[0m             \u001b[0mitemmask\u001b[0m\u001b[0;34m[\u001b[0m\u001b[0mrl\u001b[0m\u001b[0;34m.\u001b[0m\u001b[0mindexer\u001b[0m\u001b[0;34m]\u001b[0m \u001b[0;34m=\u001b[0m \u001b[0;36m1\u001b[0m\u001b[0;34m\u001b[0m\u001b[0;34m\u001b[0m\u001b[0m\n\u001b[1;32m   1755\u001b[0m \u001b[0;34m\u001b[0m\u001b[0m\n",
            "\u001b[0;31mValueError\u001b[0m: could not convert string to float: '26-03-23'"
          ]
        }
      ],
      "source": [
        "df.corr()['runs']"
      ]
    },
    {
      "cell_type": "markdown",
      "metadata": {
        "id": "0Bl8UFgxcnMc"
      },
      "source": [
        "# Data Cleaning and Pre-Processing"
      ]
    },
    {
      "cell_type": "code",
      "execution_count": null,
      "metadata": {
        "id": "ywRyacZphHbw"
      },
      "outputs": [],
      "source": [
        "# Removing unwanted cols - reduce memory size\n",
        "cols_to_remove = ['Non Striker','Batter Runs','Extra Runs','Ball Rebowled','Extra Type','Method','Target Score',]\n",
        "df.drop(labels=cols_to_remove , axis=1 , inplace = True)"
      ]
    },
    {
      "cell_type": "code",
      "execution_count": null,
      "metadata": {
        "id": "lpI7l21LhOfY"
      },
      "outputs": [],
      "source": [
        "cols_to_remove = ['s_no','Player Out','Runs to Get','Winner','Chased Successfully','Total Batter Runs','Total Non Striker Runs',]\n",
        "df.drop(labels=cols_to_remove , axis=1 , inplace = True)"
      ]
    },
    {
      "cell_type": "code",
      "execution_count": null,
      "metadata": {
        "id": "hhTOFDyxhQrA"
      },
      "outputs": [],
      "source": [
        "cols_to_remove = ['Batter Balls Faced','Player Out Runs','Bowler Runs Conceded','Player Out Balls Faced','Non Striker Balls Faced','Valid Ball',]\n",
        "df.drop(labels=cols_to_remove , axis=1 , inplace = True)"
      ]
    },
    {
      "cell_type": "code",
      "execution_count": null,
      "metadata": {
        "id": "WMcsA3NQhSxZ"
      },
      "outputs": [],
      "source": [
        "consistent_team = ['England', 'Pakistan', 'Sri Lanka', 'Australia', 'South Africa',\n",
        "       'New Zealand', 'Bangladesh', 'West Indies', 'India',\n",
        "       'Afghanistan','Zimbabwe','Ireland',]"
      ]
    },
    {
      "cell_type": "code",
      "execution_count": null,
      "metadata": {
        "id": "vP7aPQreiiXX"
      },
      "outputs": [],
      "source": [
        "df = df[df['bat_team'].isin(consistent_team) & df['bowl_team'].isin(consistent_team)]"
      ]
    },
    {
      "cell_type": "code",
      "execution_count": null,
      "metadata": {
        "id": "EZqbJwA9inVE"
      },
      "outputs": [],
      "source": [
        "df"
      ]
    },
    {
      "cell_type": "code",
      "execution_count": null,
      "metadata": {
        "id": "0dh-CDUFioQU"
      },
      "outputs": [],
      "source": [
        "df = df[df['Innings'] == 1]"
      ]
    },
    {
      "cell_type": "code",
      "execution_count": null,
      "metadata": {
        "id": "8R6I6GlQiqlN"
      },
      "outputs": [],
      "source": [
        "df['wicket_left'] = 10- df['wickets']\n",
        "df['bowls_bowled'] = 120 - df['Balls Remaining']"
      ]
    },
    {
      "cell_type": "code",
      "execution_count": null,
      "metadata": {
        "id": "8LBf2oaEi3ay"
      },
      "outputs": [],
      "source": [
        "df['crr'] = (df['runs']*6)/ df['bowls_bowled']"
      ]
    },
    {
      "cell_type": "code",
      "execution_count": null,
      "metadata": {
        "id": "X82_6WGii6Xq"
      },
      "outputs": [],
      "source": [
        "groups = df.groupby('Match ID')\n",
        "m_id = df['Match ID'].unique()\n",
        "runs_last_3ov = []\n",
        "for id in m_id:\n",
        "  runs_last_3ov.extend(groups.get_group(id).rolling(window=18).sum()['Runs From Ball'].values.tolist())"
      ]
    },
    {
      "cell_type": "code",
      "execution_count": null,
      "metadata": {
        "id": "hxUtyY7di9rS"
      },
      "outputs": [],
      "source": [
        "df['runs_last_3ov'] =runs_last_3ov"
      ]
    },
    {
      "cell_type": "code",
      "execution_count": null,
      "metadata": {
        "id": "lNmM-TYajBzz"
      },
      "outputs": [],
      "source": [
        "groups = df.groupby('Match ID')\n",
        "m_id = df['Match ID'].unique()\n",
        "wickets_last_3ov = []\n",
        "for id in m_id:\n",
        "  wickets_last_3ov.extend(groups.get_group(id).rolling(window=18).sum()['Wicket'].values.tolist())"
      ]
    },
    {
      "cell_type": "code",
      "execution_count": null,
      "metadata": {
        "id": "3TP1fAlJjEkL"
      },
      "outputs": [],
      "source": [
        "df['wickets_last_3ov'] =wickets_last_3ov"
      ]
    },
    {
      "cell_type": "code",
      "execution_count": null,
      "metadata": {
        "id": "1S6tnpRXjFWv"
      },
      "outputs": [],
      "source": [
        "df = df.groupby('Match ID').sum()['Runs From Ball'].reset_index().merge(df,on='Match ID')"
      ]
    },
    {
      "cell_type": "code",
      "execution_count": null,
      "metadata": {
        "id": "xCIuTtWFjJsc"
      },
      "outputs": [],
      "source": [
        "def bowls_to_overs(bowls):\n",
        "    overs = bowls // 6\n",
        "    remaining_bowls = bowls % 6\n",
        "    total_overs = overs + remaining_bowls / 10\n",
        "\n",
        "    return round(total_overs, 1)"
      ]
    },
    {
      "cell_type": "code",
      "execution_count": null,
      "metadata": {
        "id": "uPGgfXk6jMav"
      },
      "outputs": [],
      "source": [
        "df['cur_overs'] = df['bowls_bowled'].apply(bowls_to_overs)"
      ]
    },
    {
      "cell_type": "code",
      "execution_count": null,
      "metadata": {
        "id": "92PwMOIDjONI"
      },
      "outputs": [],
      "source": [
        "df.head()"
      ]
    },
    {
      "cell_type": "code",
      "execution_count": null,
      "metadata": {
        "id": "DTrbgpsZjRIM"
      },
      "outputs": [],
      "source": [
        "final_df = df[['Venue','bat_team','bowl_team','wickets','cur_overs','runs','crr','wickets_last_3ov','runs_last_3ov','Runs From Ball_x']]"
      ]
    },
    {
      "cell_type": "code",
      "execution_count": null,
      "metadata": {
        "id": "1TPD0KHvjTIP"
      },
      "outputs": [],
      "source": [
        "final_df.rename(columns={'runs': 'cur_runs'}, inplace=True)\n",
        "final_df.rename(columns={'wickets': 'cur_wickets'}, inplace=True)\n",
        "final_df.rename(columns={'Runs From Ball_x': 'total_runs'}, inplace=True)"
      ]
    },
    {
      "cell_type": "code",
      "execution_count": null,
      "metadata": {
        "id": "-OJ2SKhljWKC"
      },
      "outputs": [],
      "source": [
        "final_df.isnull().sum()"
      ]
    },
    {
      "cell_type": "code",
      "execution_count": null,
      "metadata": {
        "id": "rngwKtZFjY8e"
      },
      "outputs": [],
      "source": [
        "final_df.dropna(inplace=True)"
      ]
    },
    {
      "cell_type": "code",
      "execution_count": null,
      "metadata": {
        "id": "rs_XSF_Aja3j"
      },
      "outputs": [],
      "source": [
        "final_df.isnull().sum()"
      ]
    },
    {
      "cell_type": "code",
      "execution_count": null,
      "metadata": {
        "id": "QCCUD57CjiPW"
      },
      "outputs": [],
      "source": [
        "data = final_df[[\"bat_team\"]].value_counts()\n",
        "data"
      ]
    },
    {
      "cell_type": "code",
      "execution_count": null,
      "metadata": {
        "id": "SGY9smEJjksq"
      },
      "outputs": [],
      "source": [
        "data2 = final_df[[\"bowl_team\"]].value_counts()\n",
        "data2"
      ]
    },
    {
      "cell_type": "code",
      "execution_count": null,
      "metadata": {
        "id": "g0b8dJgOjnLU"
      },
      "outputs": [],
      "source": [
        "final_df = final_df[final_df['cur_overs']>=3.0]"
      ]
    },
    {
      "cell_type": "code",
      "execution_count": null,
      "metadata": {
        "id": "T__bhFRajpfb"
      },
      "outputs": [],
      "source": [
        "final_df= final_df.sample(final_df.shape[0])"
      ]
    },
    {
      "cell_type": "code",
      "execution_count": null,
      "metadata": {
        "id": "EEJnc67ujrFX"
      },
      "outputs": [],
      "source": [
        "final_df"
      ]
    },
    {
      "cell_type": "code",
      "execution_count": null,
      "metadata": {
        "id": "yqceFcxUjtiu"
      },
      "outputs": [],
      "source": [
        "top_venue = df['Venue'].value_counts().head(10)"
      ]
    },
    {
      "cell_type": "code",
      "execution_count": null,
      "metadata": {
        "id": "d1U69QgDjvVE"
      },
      "outputs": [],
      "source": [
        "\n",
        "plt.figure(figsize=(8, 8))\n",
        "plt.pie(top_venue, labels=top_venue.index, autopct='%1.1f%%', startangle=90)\n",
        "plt.title('Top 10 top_venue based on Venue')\n",
        "plt.show()"
      ]
    },
    {
      "cell_type": "code",
      "execution_count": null,
      "metadata": {
        "id": "hChIDcMZjxrV"
      },
      "outputs": [],
      "source": [
        "top_teams = df['bat_team'].value_counts().head(10)"
      ]
    },
    {
      "cell_type": "code",
      "execution_count": null,
      "metadata": {
        "id": "pJ0T1fRxjzsZ"
      },
      "outputs": [],
      "source": [
        "plt.figure(figsize=(8, 8))\n",
        "plt.pie(top_teams, labels=top_teams.index, autopct='%1.1f%%', startangle=90)\n",
        "plt.title('Top 10 Teams based on bat_team')\n",
        "plt.show()"
      ]
    },
    {
      "cell_type": "code",
      "execution_count": null,
      "metadata": {
        "id": "0AWM893Aj2Mr"
      },
      "outputs": [],
      "source": [
        "corr_with_totrun = final_df.corr()['total_runs']\n",
        "corr_with_totrun"
      ]
    },
    {
      "cell_type": "code",
      "execution_count": null,
      "metadata": {
        "colab": {
          "background_save": true
        },
        "id": "C_srrpqaj4jc"
      },
      "outputs": [],
      "source": [
        "import seaborn as sb\n",
        "dataplot = sb.heatmap(final_df.corr(), cmap=\"YlGnBu\", annot=True)\n",
        "\n",
        "plt.show()"
      ]
    },
    {
      "cell_type": "code",
      "execution_count": null,
      "metadata": {
        "id": "EFQiF0yXj6zo"
      },
      "outputs": [],
      "source": [
        "pd.np.random.seed(42)\n",
        "final_df = final_df.sample(frac=1).reset_index(drop=True)"
      ]
    },
    {
      "cell_type": "code",
      "execution_count": null,
      "metadata": {
        "colab": {
          "background_save": true
        },
        "id": "P0jrjsTvj8vF"
      },
      "outputs": [],
      "source": [
        "final_df = final_df[[\"bat_team\",\"bowl_team\",\"Venue\",\"cur_overs\",\"cur_runs\",\"cur_wickets\",\"crr\",\"wickets_last_3ov\",\"runs_last_3ov\",\"total_runs\"]]\n",
        "final_df"
      ]
    },
    {
      "cell_type": "markdown",
      "metadata": {
        "id": "qXaqhtrYj_F8"
      },
      "source": [
        "# One Hot Encoding"
      ]
    },
    {
      "cell_type": "code",
      "execution_count": null,
      "metadata": {
        "colab": {
          "background_save": true
        },
        "id": "l9rBoN9PlPik"
      },
      "outputs": [],
      "source": [
        "from sklearn.compose import ColumnTransformer\n",
        "from sklearn.preprocessing import OneHotEncoder\n",
        "from sklearn.pipeline import Pipeline\n",
        "from sklearn.preprocessing import StandardScaler\n",
        "\n",
        "trf = ColumnTransformer([\n",
        "    ('trf',OneHotEncoder(sparse=False,drop='first'),['bat_team','bowl_team','Venue'])\n",
        "],remainder='passthrough')\n"
      ]
    },
    {
      "cell_type": "markdown",
      "metadata": {
        "id": "tQBr4oTWtVKN"
      },
      "source": [
        "# Train_Test_Split"
      ]
    },
    {
      "cell_type": "code",
      "execution_count": null,
      "metadata": {
        "colab": {
          "background_save": true
        },
        "id": "auuNgGc_sg2x"
      },
      "outputs": [],
      "source": [
        "x1= final_df.drop('total_runs',axis =1)\n",
        "y1 = final_df.total_runs"
      ]
    },
    {
      "cell_type": "code",
      "execution_count": null,
      "metadata": {
        "colab": {
          "background_save": true
        },
        "id": "48O4G-kZs97e"
      },
      "outputs": [],
      "source": [
        "from sklearn.model_selection import train_test_split\n",
        "\n",
        "x_train,x_test,y_train,y_test = train_test_split(x1,y1, test_size = 0.3, random_state=100)\n"
      ]
    },
    {
      "cell_type": "code",
      "execution_count": null,
      "metadata": {
        "colab": {
          "background_save": true
        },
        "id": "HTi4SbTudeoq"
      },
      "outputs": [],
      "source": [
        "x_train"
      ]
    },
    {
      "cell_type": "markdown",
      "metadata": {
        "id": "3cOcPgghtc-t"
      },
      "source": [
        "# Model Training"
      ]
    },
    {
      "cell_type": "markdown",
      "metadata": {
        "id": "HiJy9XYUvTUS"
      },
      "source": [
        "## 1.Linear Regression"
      ]
    },
    {
      "cell_type": "code",
      "execution_count": null,
      "metadata": {
        "colab": {
          "background_save": true
        },
        "id": "X05HYQOmtfmg"
      },
      "outputs": [],
      "source": [
        "from sklearn.linear_model import LinearRegression\n",
        "from sklearn import metrics\n",
        "\n",
        "reg = LinearRegression()\n",
        "\n",
        "pipe_reg = Pipeline(steps=[\n",
        "    ('step1',trf),\n",
        "    ('step2', StandardScaler()),\n",
        "    ('step3',reg)\n",
        "])\n",
        "\n",
        "pipe_reg.fit(x_train , y_train)\n",
        "\n",
        "y_train_pred1 = pipe_reg.predict(x_train)\n",
        "\n",
        "mae_train = metrics.mean_absolute_error(y_train, y_train_pred1)\n",
        "mse_train = metrics.mean_squared_error(y_train, y_train_pred1)\n",
        "rmse_train = metrics.mean_squared_error(y_train, y_train_pred1, squared=False)\n",
        "r2_train_lin = metrics.r2_score(y_train, y_train_pred1)\n",
        "\n",
        "y_test_pred1 = pipe_reg.predict(x_test)\n",
        "\n",
        "mae_test = metrics.mean_absolute_error(y_test, y_test_pred1)\n",
        "mse_test = metrics.mean_squared_error(y_test, y_test_pred1)\n",
        "rmse_test = metrics.mean_squared_error(y_test, y_test_pred1, squared=False)\n",
        "r2_test_lin = metrics.r2_score(y_test, y_test_pred1)\n",
        "\n",
        "print(\"Training Metrics:\")\n",
        "print(f\"MAE: {mae_train}\")\n",
        "print(f\"MSE: {mse_train}\")\n",
        "print(f\"RMSE: {rmse_train}\")\n",
        "print(f\"R-squared (R²): {r2_train_lin}\")\n",
        "print(\"\\nTesting Metrics:\")\n",
        "print(f\"MAE: {mae_test}\")\n",
        "print(f\"MSE: {mse_test}\")\n",
        "print(f\"RMSE: {rmse_test}\")\n",
        "print(f\"R-squared (R²): {r2_test_lin}\")"
      ]
    },
    {
      "cell_type": "code",
      "execution_count": null,
      "metadata": {
        "colab": {
          "background_save": true
        },
        "id": "U8UOmKeG3WWk"
      },
      "outputs": [],
      "source": [
        "r_sq_lin = r2_test_lin\n",
        "r_sq_lin"
      ]
    },
    {
      "cell_type": "code",
      "execution_count": null,
      "metadata": {
        "colab": {
          "background_save": true
        },
        "id": "sjg_iXGvxAb9"
      },
      "outputs": [],
      "source": [
        "train_r2 = r2_train_lin\n",
        "test_r2 = r2_test_lin\n",
        "\n",
        "plt.figure(figsize=(6, 4))\n",
        "plt.bar(['Training', 'Testing'], [train_r2, test_r2], color=['blue', 'green'])\n",
        "plt.xlabel('Dataset')\n",
        "plt.ylabel('R-squared (R²)')\n",
        "plt.title('Training vs. Testing R-squared')\n",
        "plt.ylim(0, 1)\n",
        "plt.show()"
      ]
    },
    {
      "cell_type": "markdown",
      "metadata": {
        "id": "YcqqiIQUxRj6"
      },
      "source": [
        "##2. Random Forest Regressor"
      ]
    },
    {
      "cell_type": "code",
      "execution_count": null,
      "metadata": {
        "colab": {
          "background_save": true
        },
        "id": "eRB3z2bJxSLI"
      },
      "outputs": [],
      "source": [
        "from sklearn.ensemble import RandomForestRegressor\n",
        "\n",
        "rf_regressor = RandomForestRegressor(n_estimators=100, random_state=42)\n",
        "\n",
        "pipe_rand = Pipeline(steps=[\n",
        "    ('step1',trf),\n",
        "    ('step2', StandardScaler()),\n",
        "    ('step3',rf_regressor)\n",
        "])\n",
        "\n",
        "pipe_rand.fit(x_train , y_train)\n",
        "\n",
        "y_train_pred3 = pipe_rand.predict(x_train)\n",
        "\n",
        "mae_train = metrics.mean_absolute_error(y_train, y_train_pred3)\n",
        "mse_train = metrics.mean_squared_error(y_train, y_train_pred3)\n",
        "rmse_train = metrics.mean_squared_error(y_train, y_train_pred3, squared=False)\n",
        "r2_train_ran = metrics.r2_score(y_train, y_train_pred3)\n",
        "\n",
        "y_test_pred3 = pipe_rand.predict(x_test)\n",
        "\n",
        "mae_test = metrics.mean_absolute_error(y_test, y_test_pred3)\n",
        "mse_test = metrics.mean_squared_error(y_test, y_test_pred3)\n",
        "rmse_test = metrics.mean_squared_error(y_test, y_test_pred3, squared=False)\n",
        "r2_test_ran = metrics.r2_score(y_test, y_test_pred3)\n",
        "\n",
        "print(\"Training Metrics:\")\n",
        "print(f\"MAE: {mae_train}\")\n",
        "print(f\"MSE: {mse_train}\")\n",
        "print(f\"RMSE: {rmse_train}\")\n",
        "print(f\"R-squared (R²): {r2_train_ran}\")\n",
        "print(\"\\nTesting Metrics:\")\n",
        "print(f\"MAE: {mae_test}\")\n",
        "print(f\"MSE: {mse_test}\")\n",
        "print(f\"RMSE: {rmse_test}\")\n",
        "print(f\"R-squared (R²): {r2_test_ran}\")"
      ]
    },
    {
      "cell_type": "code",
      "execution_count": null,
      "metadata": {
        "colab": {
          "background_save": true
        },
        "id": "l2In3x853oVO"
      },
      "outputs": [],
      "source": [
        "r_sq_ran = r2_test_ran\n",
        "r_sq_ran"
      ]
    },
    {
      "cell_type": "code",
      "execution_count": null,
      "metadata": {
        "colab": {
          "background_save": true
        },
        "id": "uqjOPjADxrdt"
      },
      "outputs": [],
      "source": [
        "train_r2 = r2_train_ran\n",
        "test_r2 = r2_test_ran\n",
        "\n",
        "plt.figure(figsize=(6, 4))\n",
        "plt.bar(['Training', 'Testing'], [train_r2, test_r2], color=['blue', 'green'])\n",
        "plt.xlabel('Dataset')\n",
        "plt.ylabel('R-squared (R²)')\n",
        "plt.title('Training vs. Testing R-squared')\n",
        "plt.ylim(0, 1)\n",
        "plt.show()"
      ]
    },
    {
      "cell_type": "code",
      "execution_count": null,
      "metadata": {
        "colab": {
          "background_save": true
        },
        "id": "kLPWp8lgi2QY"
      },
      "outputs": [],
      "source": [
        "import pickle\n",
        "pickle.dump(pipe_rand,open('pipe_rand.pkl','wb'))"
      ]
    },
    {
      "cell_type": "markdown",
      "metadata": {
        "id": "IPe52Xrzx4ns"
      },
      "source": [
        "## 3.XGBoost Regressor"
      ]
    },
    {
      "cell_type": "code",
      "execution_count": null,
      "metadata": {
        "colab": {
          "background_save": true
        },
        "id": "dZQ3YlQ4k7AD"
      },
      "outputs": [],
      "source": [
        "from xgboost import XGBRegressor\n",
        "from sklearn.metrics import accuracy_score\n",
        "\n",
        "pipe_xgb = Pipeline(steps=[\n",
        "    ('step1',trf),\n",
        "    ('step2',StandardScaler()),\n",
        "    # ('step3',XGBRegressor(n_estimators=200, objective= \"reg:squarederror\", learning_rate=0.05,max_depth=10, alpha=1, colsample_bytree=0.5, subsample=0.5))-> 88 percent\n",
        "    # ('step3',XGBRegressor(n_estimators=200, objective= \"reg:squarederror\", learning_rate=0.1,max_depth=10, alpha=0.1, colsample_bytree=0.5, subsample=0.5)) -> 93 percent\n",
        "    # ('step3',XGBRegressor(n_estimators=500, objective= \"reg:squarederror\", learning_rate=0.1,max_depth=9, alpha=2, colsample_bytree=0.3, subsample=0.8)) -> 94 percent\n",
        "    # ('step3',XGBRegressor(n_estimators=700, objective= \"reg:squarederror\", learning_rate=0.1,max_depth=10, alpha=2, colsample_bytree=0.3, subsample=0.5)) -> mse diff:50>\n",
        "    ('step3',XGBRegressor(n_estimators=700, objective= \"reg:squarederror\", learning_rate=0.1,max_depth=10, alpha=2, colsample_bytree=0.5, subsample=0.8))\n",
        "])\n",
        "\n",
        "pipe_xgb.fit(x_train,y_train)\n",
        "\n",
        "y_train_pred = pipe_xgb.predict(x_train)\n",
        "mae_train = metrics.mean_absolute_error(y_train, y_train_pred)\n",
        "mse_train = metrics.mean_squared_error(y_train, y_train_pred)\n",
        "rmse_train = metrics.mean_squared_error(y_train, y_train_pred, squared=False)\n",
        "r2_train = metrics.r2_score(y_train, y_train_pred)\n",
        "\n",
        "y_test_pred = pipe_xgb.predict(x_test)\n",
        "\n",
        "mae_test = metrics.mean_absolute_error(y_test, y_test_pred)\n",
        "mse_test = metrics.mean_squared_error(y_test, y_test_pred)\n",
        "rmse_test = metrics.mean_squared_error(y_test, y_test_pred, squared=False)\n",
        "r2_test = metrics.r2_score(y_test, y_test_pred)\n",
        "\n",
        "print(\"Training Metrics:\")\n",
        "print(f\"MAE: {mae_train}\")\n",
        "print(f\"MSE: {mse_train}\")\n",
        "print(f\"RMSE: {rmse_train}\")\n",
        "print(f\"R-squared (R²): {r2_train}\")\n",
        "\n",
        "print(\"\\nTesting Metrics:\")\n",
        "print(f\"MAE: {mae_test}\")\n",
        "print(f\"MSE: {mse_test}\")\n",
        "print(f\"RMSE: {rmse_test}\")\n",
        "print(f\"R-squared (R²): {r2_test}\")"
      ]
    },
    {
      "cell_type": "code",
      "execution_count": null,
      "metadata": {
        "colab": {
          "background_save": true
        },
        "id": "ey0An9pgnAyk"
      },
      "outputs": [],
      "source": [
        "r_sq_xgb = r2_test\n",
        "r_sq_xgb"
      ]
    },
    {
      "cell_type": "code",
      "execution_count": null,
      "metadata": {
        "colab": {
          "background_save": true
        },
        "id": "rTGhVpmwyZME"
      },
      "outputs": [],
      "source": [
        "\n",
        "train_r2 = r2_train\n",
        "test_r2 = r2_test\n",
        "\n",
        "plt.figure(figsize=(6, 4))\n",
        "plt.bar(['Training', 'Testing'], [train_r2, test_r2], color=['blue', 'green'])\n",
        "plt.xlabel('Dataset')\n",
        "plt.ylabel('R-squared (R²)')\n",
        "plt.title('Training vs. Testing R-squared for XGBoost Regressor')\n",
        "plt.ylim(0, 1)\n",
        "plt.show()"
      ]
    },
    {
      "cell_type": "code",
      "execution_count": null,
      "metadata": {
        "colab": {
          "background_save": true
        },
        "id": "kE9-vcKVlWS-"
      },
      "outputs": [],
      "source": [
        "import pickle\n",
        "pickle.dump(pipe_xgb,open('pipe_xgb.pkl','wb'))"
      ]
    },
    {
      "cell_type": "markdown",
      "metadata": {
        "id": "25wKWP3h6Coq"
      },
      "source": [
        "## 4.MLP Regressor"
      ]
    },
    {
      "cell_type": "code",
      "execution_count": null,
      "metadata": {
        "colab": {
          "background_save": true
        },
        "id": "Q6kBjro85-xP"
      },
      "outputs": [],
      "source": [
        "from sklearn.neural_network import MLPRegressor\n",
        "\n",
        "nn_regressor = MLPRegressor(\n",
        "    hidden_layer_sizes=(100, 50),\n",
        "    activation='relu',\n",
        "    solver='adam',\n",
        "    random_state=42,\n",
        "    max_iter=1000,\n",
        "    learning_rate_init=0.001\n",
        ")\n",
        "pipeline_nn = Pipeline(steps=[\n",
        "    ('step1', trf),\n",
        "    ('step2', StandardScaler()),\n",
        "    ('step3', nn_regressor)\n",
        "])\n",
        "\n",
        "pipeline_nn.fit(x_train, y_train)\n",
        "\n",
        "y_train_pred_nn = pipeline_nn.predict(x_train)\n",
        "\n",
        "mae_train_nn = metrics.mean_absolute_error(y_train, y_train_pred_nn)\n",
        "mse_train_nn = metrics.mean_squared_error(y_train, y_train_pred_nn)\n",
        "rmse_train_nn = metrics.mean_squared_error(y_train, y_train_pred_nn, squared=False)\n",
        "r2_train_nn = metrics.r2_score(y_train, y_train_pred_nn)\n",
        "\n",
        "y_test_pred_nn = pipeline_nn.predict(x_test)\n",
        "\n",
        "mae_test_nn = metrics.mean_absolute_error(y_test, y_test_pred_nn)\n",
        "mse_test_nn = metrics.mean_squared_error(y_test, y_test_pred_nn)\n",
        "rmse_test_nn = metrics.mean_squared_error(y_test, y_test_pred_nn, squared=False)\n",
        "r2_test_nn = metrics.r2_score(y_test, y_test_pred_nn)\n",
        "\n",
        "\n",
        "print(\"Neural Network Training Metrics:\")\n",
        "print(f\"MAE: {mae_train_nn}\")\n",
        "print(f\"MSE: {mse_train_nn}\")\n",
        "print(f\"RMSE: {rmse_train_nn}\")\n",
        "print(f\"R-squared (R²): {r2_train_nn}\")\n",
        "\n",
        "print(\"\\nNeural Network Testing Metrics:\")\n",
        "print(f\"MAE: {mae_test_nn}\")\n",
        "print(f\"MSE: {mse_test_nn}\")\n",
        "print(f\"RMSE: {rmse_test_nn}\")\n",
        "print(f\"R-squared (R²): {r2_test_nn}\")\n"
      ]
    },
    {
      "cell_type": "code",
      "execution_count": null,
      "metadata": {
        "colab": {
          "background_save": true
        },
        "id": "Lyoa1LlY6e4i"
      },
      "outputs": [],
      "source": [
        "r_sq_nn = r2_test_nn\n",
        "r_sq_nn"
      ]
    },
    {
      "cell_type": "code",
      "execution_count": null,
      "metadata": {
        "colab": {
          "background_save": true
        },
        "id": "_3RwyzGZ6Rfn"
      },
      "outputs": [],
      "source": [
        "train_r2 = r2_train_nn\n",
        "test_r2 = r2_test_nn\n",
        "\n",
        "\n",
        "plt.figure(figsize=(6, 4))\n",
        "plt.bar(['Training', 'Testing'], [train_r2, test_r2], color=['blue', 'green'])\n",
        "plt.xlabel('Dataset')\n",
        "plt.ylabel('R-squared (R²)')\n",
        "plt.title('Training vs. Testing R-squared for MLPRegressor')\n",
        "plt.ylim(0, 1)\n",
        "plt.show()"
      ]
    },
    {
      "cell_type": "code",
      "execution_count": null,
      "metadata": {
        "colab": {
          "background_save": true
        },
        "id": "AA5MtO2y6VAc"
      },
      "outputs": [],
      "source": [
        "import pickle\n",
        "with open('pipeline_nn.pkl', 'wb') as file:\n",
        "    pickle.dump(pipeline_nn, file)"
      ]
    },
    {
      "cell_type": "markdown",
      "metadata": {
        "id": "q-eNuqcEy4FH"
      },
      "source": [
        "# Model Comparison"
      ]
    },
    {
      "cell_type": "code",
      "execution_count": null,
      "metadata": {
        "colab": {
          "background_save": true
        },
        "id": "hucohh8R1NVS"
      },
      "outputs": [],
      "source": [
        "\n",
        "algorithms = ['Linear', 'RandomForest', 'XGBoost','MLP']\n",
        "r2_values = [r_sq_lin, r_sq_ran, r_sq_xgb,r_sq_nn]\n",
        "\n",
        "plt.bar(algorithms, r2_values, color=['blue', 'green', 'orange','red'])\n",
        "\n",
        "plt.xlabel('Algorithms')\n",
        "plt.ylabel('R-squared Value')\n",
        "plt.title('Model Comparison - R-squared Values')\n",
        "\n",
        "\n",
        "for i, value in enumerate(r2_values):\n",
        "    plt.text(i, value + 0.01, f'{value:.3f}', ha='center', va='bottom')\n",
        "\n",
        "plt.show()"
      ]
    }
  ],
  "metadata": {
    "colab": {
      "provenance": []
    },
    "kernelspec": {
      "display_name": "Python 3",
      "name": "python3"
    },
    "language_info": {
      "name": "python"
    }
  },
  "nbformat": 4,
  "nbformat_minor": 0
}